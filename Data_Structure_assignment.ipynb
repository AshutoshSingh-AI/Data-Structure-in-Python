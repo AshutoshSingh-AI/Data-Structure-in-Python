{
  "nbformat": 4,
  "nbformat_minor": 0,
  "metadata": {
    "colab": {
      "provenance": []
    },
    "kernelspec": {
      "name": "python3",
      "display_name": "Python 3"
    },
    "language_info": {
      "name": "python"
    }
  },
  "cells": [
    {
      "cell_type": "markdown",
      "source": [
        "# **Data Types and Structure Questions**\n"
      ],
      "metadata": {
        "id": "FtMD5GkuBE6r"
      }
    },
    {
      "cell_type": "markdown",
      "source": [
        "1.What are data structures, and why are they important?\n",
        "\n",
        "Ans-Data structures are organized ways to store, manage, and retrieve data efficiently in a computer. They define the layout of data and provide various methods to perform operations like insertion, deletion, searching, and sorting. Common data structures include arrays, lists, stacks, queues, trees, and graphs. They are essential because they help in optimizing program performance, making data processing faster and more efficient. Choosing the right data structure is crucial for solving problems effectively and managing resources wisely. In software development, data structures form the foundation of algorithms and system design, playing a key role in building scalable and robust applications."
      ],
      "metadata": {
        "id": "56KMWtBfBy5T"
      }
    },
    {
      "cell_type": "markdown",
      "source": [
        "2.Explain the difference between mutable and immutable data types with examples?\n",
        "\n",
        "Ans-Mutable data types can be changed after creation, while immutable ones cannot.\n",
        "\n",
        "Lists are mutable; you can modify elements: my_list = [1, 2]; my_list[0] = 3.\n",
        "\n",
        "Strings are immutable; you can't change them directly: my_str = \"hello\"; modifying a character requires creating a new string."
      ],
      "metadata": {
        "id": "CPc3qoRCG-dp"
      }
    },
    {
      "cell_type": "markdown",
      "source": [
        "4.What are the main differences between lists and tuples in Python?\n",
        "\n",
        "Ans-Lists and tuples are both ordered collections in Python, but they differ mainly in mutability and usage. Lists are mutable, meaning their elements can be changed, added, or removed after creation using methods like append() or remove(). Tuples are immutable; once created, their elements cannot be altered. Lists use square brackets [], while tuples use parentheses (). Because tuples are immutable, they are generally faster and can be used as dictionary keys, unlike lists. Lists are preferred when data may change, while tuples are ideal for fixed collections or data integrity. Both support indexing, slicing, and iteration."
      ],
      "metadata": {
        "id": "YpM_LwOBHLdY"
      }
    },
    {
      "cell_type": "markdown",
      "source": [
        "4.Describe how dictionaries store data?\n",
        "\n",
        "Ans-Dictionaries store data as key-value pairs, allowing fast access to values using unique keys. Internally, they use a hash table, where each key is hashed to determine its index. This structure enables efficient insertion, deletion, and lookup operations, making dictionaries ideal for mapping and quick data retrieval."
      ],
      "metadata": {
        "id": "0u_8SPp_HU-_"
      }
    },
    {
      "cell_type": "markdown",
      "source": [
        "5. Why might you use a set instead of a list in Python?\n",
        "\n",
        "Ans-You might use a set instead of a list in Python when:\n",
        "\n",
        "You need unique elements: Sets automatically remove duplicates.\n",
        "\n",
        "Fast membership testing: Checking if an item exists is faster in sets due to hashing.\n",
        "\n",
        "You don't care about order: Sets are unordered, unlike lists.\n",
        "\n",
        "Set operations: Sets support operations like union, intersection, and difference, which are useful in tasks involving comparisons between collections.\n",
        "\n",
        "In short, use a set when uniqueness and performance matter more than order or duplicates."
      ],
      "metadata": {
        "id": "5gdDLvUeHlVP"
      }
    },
    {
      "cell_type": "markdown",
      "source": [
        "6.What is a string in Python, and how is it different from a list?\n",
        "\n",
        "Ans-In Python, a string is a sequence of characters enclosed in quotes (' ' or \" \"), such as \"hello\". It is immutable, meaning you cannot change its characters once it's created.\n",
        "\n",
        "A list, on the other hand, is a sequence of elements (which can be of any data type) enclosed in square brackets, like [1, 'a', 3.5]. Lists are mutable, so you can add, remove, or change elements.\n",
        "\n",
        "Key differences:\n",
        "\n",
        "Mutability: Strings are immutable; lists are mutable.\n",
        "\n",
        "Content: Strings hold characters; lists can hold any data types.\n",
        "\n",
        "Syntax: Strings use quotes; lists use square brackets."
      ],
      "metadata": {
        "id": "-MLU-LDVH28C"
      }
    },
    {
      "cell_type": "markdown",
      "source": [
        "7.How do tuples ensure data integrity in Python?\n",
        "\n",
        "Ans-Tuples ensure data integrity in Python by being immutable, meaning their elements cannot be changed, added, or removed after creation. This immutability prevents accidental modification of the data, making tuples ideal for storing fixed collections like coordinates, configuration settings, or database records. Because tuples are immutable:\n",
        "\n",
        "They maintain consistent values throughout the program.\n",
        "\n",
        "They can be safely used as dictionary keys or elements in sets.\n",
        "\n",
        "They reduce bugs caused by unintended data changes.\n",
        "\n",
        "Thus, tuples help protect critical or constant data, ensuring it remains reliable and unchanged during execution."
      ],
      "metadata": {
        "id": "8dAzaPLtIM-m"
      }
    },
    {
      "cell_type": "markdown",
      "source": [
        "8.What is a hash table, and how does it relate to dictionaries in Python?\n",
        "\n",
        "Ans-A hash table is a data structure that stores key-value pairs and allows for efficient data retrieval. It uses a hash function to convert keys into unique indices in an internal array, where the corresponding values are stored. This enables constant-time average-case complexity for operations like insertion, deletion, and lookup.\n",
        "\n",
        "In Python, the dictionary (dict) is implemented using a hash table. When a key is added to a dictionary, Python computes its hash value to determine where to store the associated value. This structure allows dictionaries to provide fast access to values based on their keys, ensuring performance and efficiency."
      ],
      "metadata": {
        "id": "H-6B111LIn8V"
      }
    },
    {
      "cell_type": "markdown",
      "source": [
        "9.Can lists contain different data types in Python?\n",
        "\n",
        "Ans-Yes, lists in Python can contain different data types. A single list can hold integers, floats, strings, booleans, other lists, and even custom objects.\n",
        "\n",
        "mixed_list =[1, \"hello\", 3.14, True, [2, 4]]\n"
      ],
      "metadata": {
        "id": "V13bNC4XJA3e"
      }
    },
    {
      "cell_type": "markdown",
      "source": [
        "10.Explain why strings are immutable in Python.\n",
        "\n",
        "Ans-Strings are immutable in Python to ensure security, consistency, and efficiency. Once a string is created, it cannot be changed—any modification creates a new string. Here’s why:\n",
        "\n",
        "**Memory efficiency**: Immutable objects can be reused, reducing memory overhead.\n",
        "\n",
        "**Hashing**: Strings are used as dictionary keys, which require the data to be constant (hash values must not change).\n",
        "\n",
        "**Thread safety**: Immutability prevents unexpected side effects in multi-threaded programs.\n",
        "\n",
        "**Predictability:** Immutable strings avoid bugs caused by accidental changes."
      ],
      "metadata": {
        "id": "nBenpmkgJnhb"
      }
    },
    {
      "cell_type": "markdown",
      "source": [
        "11.What advantages do dictionaries offer over lists for certain tasks?\n",
        "\n",
        "Ans-Dictionaries offer several advantages over lists for certain tasks, especially when working with key-value relationships:\n",
        "\n",
        "Fast lookups: Accessing values by key is faster (constant time) compared to searching through a list.\n",
        "\n",
        "Clear associations: Dictionaries store data as key-value pairs, making it easier to represent structured data (e.g., user info, settings).\n",
        "\n",
        "No need to know index: You access data by key, not by position.\n",
        "\n",
        "Dynamic and flexible: Keys can be any immutable type, allowing for custom identifiers."
      ],
      "metadata": {
        "id": "TyixS7cnKAGd"
      }
    },
    {
      "cell_type": "markdown",
      "source": [
        "12.Describe a scenario where using a tuple would be preferable over a list.\n",
        "\n",
        "Ans- A scenario where using a tuple is preferable over a list is when you need to store a fixed collection of values that should not change throughout the program.\n",
        "\n",
        "Example:\n",
        "Suppose you're storing the coordinates of a location on a map (latitude, longitude):\n",
        "\n",
        "location = (28.6139, 77.2090)  #Coordinates of New Delhi"
      ],
      "metadata": {
        "id": "fM5BN0ANKvxQ"
      }
    },
    {
      "cell_type": "markdown",
      "source": [
        "13.How do sets handle duplicate values in Python?\n",
        "\n",
        "Ans-In Python, sets automatically eliminate duplicate values.\n",
        "\n",
        "When you create a set, it only keeps unique elements. If you try to add duplicates, they are ignored.\n",
        "\n",
        "Example:\n",
        "my_set = {1, 2, 2, 3, 4, 4, 4, 5}\n",
        "print(my_set)\n",
        "Output:\n",
        "Copy\n",
        "Edit\n",
        "{1, 2, 3, 4, 5}\n"
      ],
      "metadata": {
        "id": "FcFhMqNH__1r"
      }
    },
    {
      "cell_type": "markdown",
      "source": [
        "14.How does the “in” keyword work differently for lists and dictionaries?\n",
        "\n",
        "Ans- The in keyword is used to check membership, but it works differently for lists and dictionaries in Python.\n",
        "\n",
        "For lists:\n",
        "in checks whether a value exists in the list.\n",
        "\n",
        "my_list = [10, 20, 30]\n",
        "print(20 in my_list)   # True\n",
        "print(25 in my_list)   # False\n",
        "\n",
        "For dictionaries:\n",
        "in checks whether a key exists in the dictionary, not a value.\n",
        "\n",
        "\n",
        "my_dict = {'a': 1, 'b': 2}\n",
        "print('a' in my_dict)      # True\n",
        "print(1 in my_dict)        # False"
      ],
      "metadata": {
        "id": "JEXBM0DUAXFG"
      }
    },
    {
      "cell_type": "markdown",
      "source": [
        "15.Can you modify the elements of a tuple? Explain why or why not.\n",
        "\n",
        "Ans- No, you cannot modify the elements of a tuple in Python.\n",
        "\n",
        "Example:\n",
        "my_tuple = (1, 2, 3)\n",
        "my_tuple[0] = 10   This will raise a TypeError"
      ],
      "metadata": {
        "id": "RKBwTREkBNOm"
      }
    },
    {
      "cell_type": "markdown",
      "source": [
        "16.What is a nested dictionary, and give an example of its use case?\n",
        "\n",
        "Ans- A nested dictionary is a dictionary within another dictionary. It allows you to store complex, structured data in a hierarchical way.\n",
        "\n",
        "Example:\n",
        "\n",
        "students = {\n",
        "    \"101\": {\"name\": \"Ashu\", \"age\": 20, \"grade\": \"A\"},\n",
        "    \"102\": {\"name\": \"sohan\", \"age\": 22, \"grade\": \"B\"},\n",
        "    \"103\": {\"name\": \"satyam\", \"age\": 21, \"grade\": \"A\"},\n",
        "}\n",
        "\n",
        "Nested dictionaries are useful when managing data like:\n",
        "\n",
        "Student records (as above)\n",
        "\n",
        "JSON-like data structures\n",
        "\n",
        "Configuration settings\n",
        "\n",
        "Inventory systems (e.g., categories and products)"
      ],
      "metadata": {
        "id": "tQ9SBzFsB9XE"
      }
    },
    {
      "cell_type": "markdown",
      "source": [
        "17.Describe the time complexity of accessing elements in a dictionary?\n",
        "\n",
        "Ans- Time Complexity of Accessing Elements in a Dictionary (Python):\n",
        "\n",
        "Average Case:\n",
        "Time Complexity: O(1) (constant time)\n",
        "\n",
        "This is because Python dictionaries use a hash table. The key is hashed, and the hash is used to directly locate the value.\n",
        "\n",
        "Worst Case:\n",
        "Time Complexity: O(n) (in rare cases)\n",
        "\n",
        "This can occur due to hash collisions (when multiple keys map to the same hash), though Python handles this efficiently in practice.\n",
        "\n"
      ],
      "metadata": {
        "id": "Mbw_6KX6Cjxx"
      }
    },
    {
      "cell_type": "markdown",
      "source": [
        "18.In what situations are lists preferred over dictionaries?\n",
        "\n",
        "Ans- Lists are preferred over dictionaries in situations where:\n",
        "\n",
        "1.Order matters:\n",
        "Lists maintain the insertion order of elements.\n",
        "\n",
        "Useful when the position/index of data is important.\n",
        "\n",
        "2.Data is homogeneous:\n",
        "Lists are ideal for storing a collection of similar items, like integers, strings, or objects.\n",
        "\n",
        "3.You need to iterate over values only.\n",
        "\n",
        "4.You need to frequently append or slice."
      ],
      "metadata": {
        "id": "Pd_INMzmEId7"
      }
    },
    {
      "cell_type": "markdown",
      "source": [
        "19.Why are dictionaries considered unordered, and how does that affect data retrieval?\n",
        "\n",
        "Ans- In older versions (before Python 3.7), dictionaries did not guarantee the order of items.That means when you iterated over a dictionary, items could appear in any arbitrary order, regardless of insertion.\n",
        "\n"
      ],
      "metadata": {
        "id": "nYJ3kipEF6cB"
      }
    },
    {
      "cell_type": "markdown",
      "source": [
        "20.Explain the difference between a list and a dictionary in terms of data retrieval?\n",
        "\n",
        "**Access Method:**\n",
        "\n",
        "-By index (e.g., list[0]).\n",
        "\n",
        "-By key (e.g., dict['name']).\n",
        "\n",
        "**Time complexity:**\n",
        "\n",
        "-O(1) for index access.\n",
        "\n",
        "-O(1) for key access (on average).\n",
        "\n",
        "***Requirement: ***\n",
        "\n",
        "Need to know the position.\n",
        "\n",
        "Need to know the key.\n",
        "\n",
        "**Use Case:**\n",
        "\n",
        "-Use when order matters or data is uniform.\n",
        "\n",
        "-Use when data has labels or unique identifiers"
      ],
      "metadata": {
        "id": "Veqq56T0HfYX"
      }
    },
    {
      "cell_type": "markdown",
      "source": [
        "# **Practial Questions**"
      ],
      "metadata": {
        "id": "rK9dL3j5R5Ju"
      }
    },
    {
      "cell_type": "code",
      "source": [
        "#1.Write a code to create a string with your name and print it.\n",
        "\n",
        "string=\"Ashutosh Singh\"\n",
        "print(\"My name is\",string)"
      ],
      "metadata": {
        "colab": {
          "base_uri": "https://localhost:8080/"
        },
        "id": "PevASn3vR86E",
        "outputId": "c03c7f3c-ea8d-4fd0-c1bb-23f582a6d794"
      },
      "execution_count": 1,
      "outputs": [
        {
          "output_type": "stream",
          "name": "stdout",
          "text": [
            "My name is Ashutosh Singh\n"
          ]
        }
      ]
    },
    {
      "cell_type": "code",
      "source": [
        "#Write a code to find the length of the string \"Hello World.\n",
        "string=\"Hello World\"\n",
        "len(string)"
      ],
      "metadata": {
        "colab": {
          "base_uri": "https://localhost:8080/"
        },
        "id": "LlpqFcIWSNG7",
        "outputId": "1882fba1-6404-4f38-c64b-1f0fe9ae9ed7"
      },
      "execution_count": 2,
      "outputs": [
        {
          "output_type": "execute_result",
          "data": {
            "text/plain": [
              "11"
            ]
          },
          "metadata": {},
          "execution_count": 2
        }
      ]
    },
    {
      "cell_type": "code",
      "source": [
        "#Write a code to slice the first 3 characters from the string \"Python Programming\"P\n",
        "\n",
        "string=\"Python Programming\"\n",
        "string[0:3]"
      ],
      "metadata": {
        "colab": {
          "base_uri": "https://localhost:8080/",
          "height": 35
        },
        "id": "Wj_jLz61TSv5",
        "outputId": "f91d5af9-ab81-4fa1-d48a-d84baad94de8"
      },
      "execution_count": 3,
      "outputs": [
        {
          "output_type": "execute_result",
          "data": {
            "text/plain": [
              "'Pyt'"
            ],
            "application/vnd.google.colaboratory.intrinsic+json": {
              "type": "string"
            }
          },
          "metadata": {},
          "execution_count": 3
        }
      ]
    },
    {
      "cell_type": "code",
      "source": [
        "#Write a code to convert the string \"hello\" to uppercase.\n",
        "string=\"hello\"\n",
        "string.upper()"
      ],
      "metadata": {
        "colab": {
          "base_uri": "https://localhost:8080/",
          "height": 35
        },
        "id": "Zsxkd-wvUa8e",
        "outputId": "21b5788e-8438-49ce-8045-c63676bb6c5c"
      },
      "execution_count": 5,
      "outputs": [
        {
          "output_type": "execute_result",
          "data": {
            "text/plain": [
              "'HELLO'"
            ],
            "application/vnd.google.colaboratory.intrinsic+json": {
              "type": "string"
            }
          },
          "metadata": {},
          "execution_count": 5
        }
      ]
    },
    {
      "cell_type": "code",
      "source": [
        "#5. Write a code to replace the word \"apple\" with \"orange\" in the string \"I like apple\".\n",
        "string=\"I like apple\"\n",
        "string.replace(\"apple\",\"orange\")"
      ],
      "metadata": {
        "colab": {
          "base_uri": "https://localhost:8080/",
          "height": 35
        },
        "id": "A8CeAqnlUj14",
        "outputId": "30303094-ea17-4638-9b37-ce4089027784"
      },
      "execution_count": 6,
      "outputs": [
        {
          "output_type": "execute_result",
          "data": {
            "text/plain": [
              "'I like orange'"
            ],
            "application/vnd.google.colaboratory.intrinsic+json": {
              "type": "string"
            }
          },
          "metadata": {},
          "execution_count": 6
        }
      ]
    },
    {
      "cell_type": "code",
      "source": [
        "#6.Write a code to create a list with numbers 1 to 5 and print it.\n",
        "lst=[]\n",
        "for i in range(1,6):\n",
        "  lst.append(i)\n",
        "  print(i)"
      ],
      "metadata": {
        "colab": {
          "base_uri": "https://localhost:8080/"
        },
        "id": "Sor6Sio9ViqH",
        "outputId": "53191cc6-a46e-46f6-ac2d-4ed49abbbae0"
      },
      "execution_count": 9,
      "outputs": [
        {
          "output_type": "stream",
          "name": "stdout",
          "text": [
            "1\n",
            "2\n",
            "3\n",
            "4\n",
            "5\n"
          ]
        }
      ]
    },
    {
      "cell_type": "code",
      "source": [
        "#7.Write a code to append the number 10 to the list [1, 2, 3, 4].\n",
        "lst=[1,2,3,4]\n",
        "lst.append(10)\n",
        "print(lst)"
      ],
      "metadata": {
        "colab": {
          "base_uri": "https://localhost:8080/"
        },
        "id": "GF1oRFOnV0PT",
        "outputId": "c6aed3a4-72e0-4556-870f-bedb0b127d0a"
      },
      "execution_count": 1,
      "outputs": [
        {
          "output_type": "stream",
          "name": "stdout",
          "text": [
            "[1, 2, 3, 4, 10]\n"
          ]
        }
      ]
    },
    {
      "cell_type": "code",
      "source": [
        "#8.Write a code to remove the number 3 from the list [1, 2, 3, 4, 5].\n",
        "lst=[1,2,3,4,5]\n",
        "lst.remove(3)\n",
        "print(lst)"
      ],
      "metadata": {
        "colab": {
          "base_uri": "https://localhost:8080/"
        },
        "id": "YHCiQpqFlZ6t",
        "outputId": "e07ffd0d-ff2b-43f9-9ae9-6ba3b564d1b6"
      },
      "execution_count": 2,
      "outputs": [
        {
          "output_type": "stream",
          "name": "stdout",
          "text": [
            "[1, 2, 4, 5]\n"
          ]
        }
      ]
    },
    {
      "cell_type": "code",
      "source": [
        "#9.Write a code to access the second element in the list ['a', 'b', 'c', 'd'].\n",
        "lst=['a','b','c','d']\n",
        "lst[1]"
      ],
      "metadata": {
        "colab": {
          "base_uri": "https://localhost:8080/",
          "height": 35
        },
        "id": "cK_V9dUiljLq",
        "outputId": "e5c1a722-56d9-4250-ad02-514f2a21f9fa"
      },
      "execution_count": 3,
      "outputs": [
        {
          "output_type": "execute_result",
          "data": {
            "text/plain": [
              "'b'"
            ],
            "application/vnd.google.colaboratory.intrinsic+json": {
              "type": "string"
            }
          },
          "metadata": {},
          "execution_count": 3
        }
      ]
    },
    {
      "cell_type": "code",
      "source": [
        "#10.Write a code to reverse the list [10, 20, 30, 40, 50].\n",
        "lst=[10,20,30,40,50]\n",
        "lst.reverse()\n",
        "print(lst)"
      ],
      "metadata": {
        "colab": {
          "base_uri": "https://localhost:8080/"
        },
        "id": "Q0NnL4wAlstt",
        "outputId": "980ef56d-2cbf-4055-c339-f7dc4c3d981f"
      },
      "execution_count": 4,
      "outputs": [
        {
          "output_type": "stream",
          "name": "stdout",
          "text": [
            "[50, 40, 30, 20, 10]\n"
          ]
        }
      ]
    },
    {
      "cell_type": "code",
      "source": [
        "#11.Write a code to create a tuple with the elements 100, 200, 300 and print it.\n",
        "t=(100,200,300)\n",
        "print(t)\n",
        "type(t)"
      ],
      "metadata": {
        "colab": {
          "base_uri": "https://localhost:8080/"
        },
        "id": "gGm6MaVOmMwx",
        "outputId": "1ac00bc6-d96f-4fab-e50c-1f8e6f94b91f"
      },
      "execution_count": 5,
      "outputs": [
        {
          "output_type": "stream",
          "name": "stdout",
          "text": [
            "(100, 200, 300)\n"
          ]
        },
        {
          "output_type": "execute_result",
          "data": {
            "text/plain": [
              "tuple"
            ]
          },
          "metadata": {},
          "execution_count": 5
        }
      ]
    },
    {
      "cell_type": "code",
      "source": [
        "#12.Write a code to access the second-to-last element of the tuple ('red', 'green', 'blue', 'yellow').\n",
        "t=('red','green','blue','yellow')\n",
        "t[-2]"
      ],
      "metadata": {
        "colab": {
          "base_uri": "https://localhost:8080/",
          "height": 35
        },
        "id": "jOBHQIe-mYhy",
        "outputId": "1ff6f860-8e68-4cdf-ba65-9739c025ec7c"
      },
      "execution_count": 6,
      "outputs": [
        {
          "output_type": "execute_result",
          "data": {
            "text/plain": [
              "'blue'"
            ],
            "application/vnd.google.colaboratory.intrinsic+json": {
              "type": "string"
            }
          },
          "metadata": {},
          "execution_count": 6
        }
      ]
    },
    {
      "cell_type": "code",
      "source": [
        "#13.Write a code to find the minimum number in the tuple (10, 20, 5, 15).\n",
        "numbers=(10,20,3,4,5)\n",
        "min(numbers)"
      ],
      "metadata": {
        "colab": {
          "base_uri": "https://localhost:8080/"
        },
        "id": "kD_iovPfmiBg",
        "outputId": "0d0be214-51a8-4d24-ea19-5f65af36ab7d"
      },
      "execution_count": 7,
      "outputs": [
        {
          "output_type": "execute_result",
          "data": {
            "text/plain": [
              "3"
            ]
          },
          "metadata": {},
          "execution_count": 7
        }
      ]
    },
    {
      "cell_type": "code",
      "source": [
        "#14. Write a code to find the index of the element \"cat\" in the tuple ('dog', 'cat', 'rabbit').\n",
        "t=('dog','cat','rabbit')\n",
        "t.index('cat')"
      ],
      "metadata": {
        "colab": {
          "base_uri": "https://localhost:8080/"
        },
        "id": "3XG5bnXAnOdy",
        "outputId": "b8333a2e-df93-4f35-c21d-c3aa8a8012a8"
      },
      "execution_count": 8,
      "outputs": [
        {
          "output_type": "execute_result",
          "data": {
            "text/plain": [
              "1"
            ]
          },
          "metadata": {},
          "execution_count": 8
        }
      ]
    },
    {
      "cell_type": "code",
      "source": [
        "#15. Write a code to create a tuple containing three different fruits and check if \"kiwi\" is in it.\n",
        "t=('apple','guava','kiwi')\n",
        "if \"kiwi\" in t:\n",
        "  print(\"kiwi is in the tuple\")\n",
        "else:\n",
        "  print(\"kiwi is not in the tuple\")\n"
      ],
      "metadata": {
        "colab": {
          "base_uri": "https://localhost:8080/"
        },
        "id": "vv0tWAegtFwY",
        "outputId": "9303ab70-0256-465a-bc56-7baef584912f"
      },
      "execution_count": 12,
      "outputs": [
        {
          "output_type": "stream",
          "name": "stdout",
          "text": [
            "kiwi is in the tuple\n"
          ]
        }
      ]
    },
    {
      "cell_type": "code",
      "source": [
        "#16.Write a code to create a set with the elements 'a', 'b', 'c' and print it.\n",
        "s={'a','b','c'}\n",
        "print(s)\n",
        "type(s)"
      ],
      "metadata": {
        "colab": {
          "base_uri": "https://localhost:8080/"
        },
        "id": "MoVdQD7KtfyC",
        "outputId": "62eaf0f4-ff0c-4acd-8a13-9bc0daaeef86"
      },
      "execution_count": 14,
      "outputs": [
        {
          "output_type": "stream",
          "name": "stdout",
          "text": [
            "{'c', 'a', 'b'}\n"
          ]
        },
        {
          "output_type": "execute_result",
          "data": {
            "text/plain": [
              "set"
            ]
          },
          "metadata": {},
          "execution_count": 14
        }
      ]
    },
    {
      "cell_type": "code",
      "source": [
        "#17.Write a code to clear all elements from the set {1, 2, 3, 4, 5}.\n",
        "s={1,2,3,4,5}\n",
        "s.clear()\n",
        "print(s)"
      ],
      "metadata": {
        "colab": {
          "base_uri": "https://localhost:8080/"
        },
        "id": "aHgcqO8KuFGh",
        "outputId": "1e62493c-0407-4e87-c970-5d4b04ff1380"
      },
      "execution_count": 16,
      "outputs": [
        {
          "output_type": "stream",
          "name": "stdout",
          "text": [
            "set()\n"
          ]
        }
      ]
    },
    {
      "cell_type": "code",
      "source": [
        "#18.Write a code to remove the element 4 from the set {1, 2, 3, 4}.\n",
        "s={1,2,3,4}\n",
        "s.remove(4)\n",
        "print(s)"
      ],
      "metadata": {
        "colab": {
          "base_uri": "https://localhost:8080/"
        },
        "id": "gDgD0_kHxMdS",
        "outputId": "6c1f71d9-4a24-443f-c4ee-ef2a00d1f4d2"
      },
      "execution_count": 17,
      "outputs": [
        {
          "output_type": "stream",
          "name": "stdout",
          "text": [
            "{1, 2, 3}\n"
          ]
        }
      ]
    },
    {
      "cell_type": "code",
      "source": [
        "#19.Write a code to find the union of two sets {1, 2, 3} and {3, 4, 5}.\n",
        "s1={1,2,3}\n",
        "s2={3,4,5}\n",
        "union=s1|s2\n",
        "print(union)"
      ],
      "metadata": {
        "colab": {
          "base_uri": "https://localhost:8080/"
        },
        "id": "Bdpr_YqNxt1N",
        "outputId": "d710b516-f080-41a1-d75f-bdd7c0af0c28"
      },
      "execution_count": 18,
      "outputs": [
        {
          "output_type": "stream",
          "name": "stdout",
          "text": [
            "{1, 2, 3, 4, 5}\n"
          ]
        }
      ]
    },
    {
      "cell_type": "code",
      "source": [
        "#20.Write a code to find the intersection of two sets {1, 2, 3} and {2, 3, 4}.\n",
        "s1={1,2,3}\n",
        "s2={2,3,4}\n",
        "inter=s1&s2\n",
        "print(inter)"
      ],
      "metadata": {
        "colab": {
          "base_uri": "https://localhost:8080/"
        },
        "id": "qIeG6-cUx71b",
        "outputId": "28392944-07dc-43a0-824e-e92ff4da20a4"
      },
      "execution_count": 19,
      "outputs": [
        {
          "output_type": "stream",
          "name": "stdout",
          "text": [
            "{2, 3}\n"
          ]
        }
      ]
    },
    {
      "cell_type": "code",
      "source": [
        "#21.Write a code to create a dictionary with the keys \"name\", \"age\", and \"city\", and print it.\n",
        "d={\"name\":\"Ashu\",\"age\":22,\"city\":\"varanasi\"}\n",
        "print(d)\n",
        "type(d)"
      ],
      "metadata": {
        "colab": {
          "base_uri": "https://localhost:8080/"
        },
        "id": "XlLok2vfyS4u",
        "outputId": "5680846c-f92e-4bb1-8bef-e136d6ea8968"
      },
      "execution_count": 20,
      "outputs": [
        {
          "output_type": "stream",
          "name": "stdout",
          "text": [
            "{'name': 'Ashu', 'age': 22, 'city': 'varanasi'}\n"
          ]
        },
        {
          "output_type": "execute_result",
          "data": {
            "text/plain": [
              "dict"
            ]
          },
          "metadata": {},
          "execution_count": 20
        }
      ]
    },
    {
      "cell_type": "code",
      "source": [
        "#22.a code to add a new key-value pair \"country\": \"USA\" to the dictionary {'name': 'John', 'age': 25}.\n",
        "d={'name': 'John', 'age': 25}\n",
        "d['country']=\"USA\"\n",
        "print(d)"
      ],
      "metadata": {
        "colab": {
          "base_uri": "https://localhost:8080/"
        },
        "id": "EEN2GlTpygDM",
        "outputId": "fb070a8f-d5a1-4894-dd68-9739665606af"
      },
      "execution_count": 22,
      "outputs": [
        {
          "output_type": "stream",
          "name": "stdout",
          "text": [
            "{'name': 'John', 'age': 25, 'country': 'USA'}\n"
          ]
        }
      ]
    },
    {
      "cell_type": "code",
      "source": [
        "#23. Write a code to access the value associated with the key \"name\" in the dictionary {'name': 'Alice', 'age': 30}.\n",
        "d={'name':'ashu','age':22}\n",
        "d['name']"
      ],
      "metadata": {
        "colab": {
          "base_uri": "https://localhost:8080/",
          "height": 35
        },
        "id": "j-MirAiMykjE",
        "outputId": "c7eb4b0c-0794-42cd-f7cc-9f2f2fb2bac4"
      },
      "execution_count": 23,
      "outputs": [
        {
          "output_type": "execute_result",
          "data": {
            "text/plain": [
              "'ashu'"
            ],
            "application/vnd.google.colaboratory.intrinsic+json": {
              "type": "string"
            }
          },
          "metadata": {},
          "execution_count": 23
        }
      ]
    },
    {
      "cell_type": "code",
      "source": [
        "#24. Write a code to remove the key \"age\" from the dictionary {'name': 'Bob', 'age': 22, 'city': 'New York'.\n",
        "d= {'name': 'Bob', 'age': 22, 'city': 'New York'}\n",
        "d.pop('age')\n",
        "print(d)"
      ],
      "metadata": {
        "colab": {
          "base_uri": "https://localhost:8080/"
        },
        "id": "stgG9WRBzAbk",
        "outputId": "5ddcc969-d025-4d48-841f-0f4cbd3e5a78"
      },
      "execution_count": 29,
      "outputs": [
        {
          "output_type": "stream",
          "name": "stdout",
          "text": [
            "{'name': 'Bob', 'city': 'New York'}\n"
          ]
        }
      ]
    },
    {
      "cell_type": "code",
      "source": [
        "#25. Write a code to check if the key \"city\" exists in the dictionary {'name': 'Alice', 'city': 'Paris'}.\n",
        "d={'name': 'Alice', 'city': 'Paris'}\n",
        "if 'city' in d:\n",
        "  print(\"city exists in the dictionary\")\n",
        "else:\n",
        "  print(\"city does not exist in the dictionary\")"
      ],
      "metadata": {
        "colab": {
          "base_uri": "https://localhost:8080/"
        },
        "id": "7QVqbaXAzVM5",
        "outputId": "dff6cd83-1ff5-459f-b699-9d05fdaa1bb8"
      },
      "execution_count": 30,
      "outputs": [
        {
          "output_type": "stream",
          "name": "stdout",
          "text": [
            "city exists in the dictionary\n"
          ]
        }
      ]
    },
    {
      "cell_type": "code",
      "source": [
        "#26. Write a code to create a list, a tuple, and a dictionary, and print them all.\n",
        "lst=[1,2,3]\n",
        "print(\"list:\",lst)\n",
        "\n",
        "\n",
        "t=(1,2,3)\n",
        "print(\"tuple:\",t)\n",
        "\n",
        "\n",
        "d={'name':'ashu','age':22}\n",
        "print(\"dictioanry:\",d)\n",
        "\n",
        "\n"
      ],
      "metadata": {
        "colab": {
          "base_uri": "https://localhost:8080/"
        },
        "id": "wMGzQrQJ0E4b",
        "outputId": "b9f4849c-4f04-4a0c-8d61-a91a5b4649a0"
      },
      "execution_count": 36,
      "outputs": [
        {
          "output_type": "stream",
          "name": "stdout",
          "text": [
            "list: [1, 2, 3]\n",
            "tuple: (1, 2, 3)\n",
            "dictioanry: {'name': 'ashu', 'age': 22}\n"
          ]
        }
      ]
    },
    {
      "cell_type": "code",
      "source": [
        "#27. Write a code to create a list of 5 random numbers between 1 and 100, sort it in ascending order, and print the result.(replaced)\n",
        "import random\n",
        "random_no=[random.randint(1,100) for i in range(5)]\n",
        "\n",
        "random_no.sort()\n",
        "\n",
        "print(\"sorted random numbers:\",random_no)"
      ],
      "metadata": {
        "colab": {
          "base_uri": "https://localhost:8080/"
        },
        "id": "8m_cPQRb0UPd",
        "outputId": "0fb3a397-4d94-434e-c416-4ede52829410"
      },
      "execution_count": 38,
      "outputs": [
        {
          "output_type": "stream",
          "name": "stdout",
          "text": [
            "sorted random numbers: [11, 44, 49, 68, 86]\n"
          ]
        }
      ]
    },
    {
      "cell_type": "code",
      "source": [
        "#28. Write a code to create a list with strings and print the element at the third index.\n",
        "fruits=[\"apple\",\"mango\",\"guava\",\"pear\"]\n",
        "\n",
        "print(\"element at the third index:\",fruits[3])"
      ],
      "metadata": {
        "colab": {
          "base_uri": "https://localhost:8080/"
        },
        "id": "oFd6NJHk10V1",
        "outputId": "eaee5f53-49bd-4e8c-fab2-74136bb69223"
      },
      "execution_count": 39,
      "outputs": [
        {
          "output_type": "stream",
          "name": "stdout",
          "text": [
            "element at the third index: pear\n"
          ]
        }
      ]
    },
    {
      "cell_type": "code",
      "source": [
        "#29.Write a code to combine two dictionaries into one and print the result.\n",
        "d1={'a':1,'b':2}\n",
        "d2={'c':3,'d':4}\n",
        "\n",
        "combined_dict={**d1, **d2}\n",
        "\n",
        "print(\"combined dictionary:\",combined_dict)"
      ],
      "metadata": {
        "colab": {
          "base_uri": "https://localhost:8080/"
        },
        "id": "vb9ZDI-52jia",
        "outputId": "dbe557f6-02c9-4027-e65c-d68d36485ae0"
      },
      "execution_count": 43,
      "outputs": [
        {
          "output_type": "stream",
          "name": "stdout",
          "text": [
            "combined dictionary: {'a': 1, 'b': 2, 'c': 3, 'd': 4}\n"
          ]
        }
      ]
    },
    {
      "cell_type": "code",
      "source": [
        "#30.Write a code to convert a list of strings into a set.\n",
        "lst=['a','b','c']\n",
        "s=set(lst)\n",
        "print(\"set:\",s)"
      ],
      "metadata": {
        "colab": {
          "base_uri": "https://localhost:8080/"
        },
        "id": "eUxW3sAO2zu3",
        "outputId": "e10629f3-2a6e-4c23-c829-cb64c004f987"
      },
      "execution_count": 44,
      "outputs": [
        {
          "output_type": "stream",
          "name": "stdout",
          "text": [
            "set: {'c', 'a', 'b'}\n"
          ]
        }
      ]
    },
    {
      "cell_type": "code",
      "source": [],
      "metadata": {
        "id": "Hh6kEz1T3rQr"
      },
      "execution_count": null,
      "outputs": []
    }
  ]
}